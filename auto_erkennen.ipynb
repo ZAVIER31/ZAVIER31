{
  "nbformat": 4,
  "nbformat_minor": 0,
  "metadata": {
    "colab": {
      "provenance": [],
      "authorship_tag": "ABX9TyOdgQEeT2XaRytGeQF7O7GD",
      "include_colab_link": true
    },
    "kernelspec": {
      "name": "python3",
      "display_name": "Python 3"
    },
    "language_info": {
      "name": "python"
    }
  },
  "cells": [
    {
      "cell_type": "markdown",
      "metadata": {
        "id": "view-in-github",
        "colab_type": "text"
      },
      "source": [
        "<a href=\"https://colab.research.google.com/github/ZAVIER31/ZAVIER31/blob/main/auto_erkennen.ipynb\" target=\"_parent\"><img src=\"https://colab.research.google.com/assets/colab-badge.svg\" alt=\"Open In Colab\"/></a>"
      ]
    },
    {
      "cell_type": "code",
      "execution_count": 22,
      "metadata": {
        "id": "boQUWAUhoYYX"
      },
      "outputs": [],
      "source": [
        "from keras.datasets import cifar10\n",
        "import math"
      ]
    },
    {
      "cell_type": "code",
      "source": [
        "(X_train, y_train), (X_test, y_test) = cifar10.load_data()\n",
        "\n",
        "import numpy as np\n",
        "y_train_car= y_train ==1\n",
        "X_train = X_train.astype(np.float32)/ 255.\n",
        "X_test = X_test.astype(np.float32) / 255."
      ],
      "metadata": {
        "id": "wzzbIbmso61x",
        "colab": {
          "base_uri": "https://localhost:8080/"
        },
        "outputId": "328485d8-4f18-4546-96f6-d9e4fdb1043e"
      },
      "execution_count": 2,
      "outputs": [
        {
          "output_type": "stream",
          "name": "stdout",
          "text": [
            "Downloading data from https://www.cs.toronto.edu/~kriz/cifar-10-python.tar.gz\n",
            "170498071/170498071 [==============================] - 6s 0us/step\n"
          ]
        }
      ]
    },
    {
      "cell_type": "code",
      "source": [
        "X_train"
      ],
      "metadata": {
        "id": "YdncC_s1B4zE"
      },
      "execution_count": null,
      "outputs": []
    },
    {
      "cell_type": "code",
      "source": [
        "from tensorflow.python.util.tf_export import InvalidSymbolNameError\n",
        "%matplotlib inline\n",
        "\n",
        "import matplotlib.pyplot as plt\n",
        "print(y_train[4])\n",
        "\n",
        "plt.imshow(X_train[4])\n",
        "plt.show()"
      ],
      "metadata": {
        "colab": {
          "base_uri": "https://localhost:8080/",
          "height": 283
        },
        "id": "YQcjizq6q9bX",
        "outputId": "c2d2b729-d4ea-45e8-e68c-eb229a654710"
      },
      "execution_count": 3,
      "outputs": [
        {
          "output_type": "stream",
          "name": "stdout",
          "text": [
            "[1]\n"
          ]
        },
        {
          "output_type": "display_data",
          "data": {
            "text/plain": [
              "<Figure size 432x288 with 1 Axes>"
            ],
            "image/png": "[encoded data removed]"
          },
          "metadata": {
            "needs_background": "light"
          }
        }
      ]
    },
    {
      "cell_type": "code",
      "source": [
        "print(y_train)"
      ],
      "metadata": {
        "colab": {
          "base_uri": "https://localhost:8080/"
        },
        "id": "fTjVBzZyy8OO",
        "outputId": "181d3bf4-cd8a-4118-ae03-91170f465ac6"
      },
      "execution_count": null,
      "outputs": [
        {
          "output_type": "stream",
          "name": "stdout",
          "text": [
            "[[6]\n",
            " [9]\n",
            " [9]\n",
            " ...\n",
            " [9]\n",
            " [1]\n",
            " [1]]\n"
          ]
        }
      ]
    },
    {
      "cell_type": "code",
      "source": [
        "# RGB: (0.1, 0.1 ,0.9)\n",
        "\n",
        "from keras.preprocessing.image import ImageDataGenerator\n",
        "\n",
        "gen = ImageDataGenerator(\n",
        "    width_shift_range= 3,\n",
        "     height_shift_range=3, \n",
        "     zoom_range= 0.1,\n",
        "      horizontal_flip= True,\n",
        "      featurewise_center= True,\n",
        "      featurewise_std_normalization=True\n",
        "\n",
        "      )\n",
        "\n",
        "\n",
        "gen.fit(X_train)\n",
        "gen.flow(X_train, y_train, shuffle= False)\n",
        " \n"
      ],
      "metadata": {
        "colab": {
          "base_uri": "https://localhost:8080/",
          "height": 1000
        },
        "id": "YnFM0o2Etlwa",
        "outputId": "86a406d8-bab9-4ee4-e0ba-646c38a38c28"
      },
      "execution_count": 21,
      "outputs": [
        {
          "output_type": "stream",
          "name": "stderr",
          "text": [
            "WARNING:matplotlib.image:Clipping input data to the valid range for imshow with RGB data ([0..1] for floats or [0..255] for integers).\n"
          ]
        },
        {
          "output_type": "stream",
          "name": "stdout",
          "text": [
            "[[[-1.6621158  -1.6251584  -1.3994997 ]\n",
            "  [-1.6621158  -1.6251584  -1.3994997 ]\n",
            "  [-1.7312787  -1.7294943  -1.5073782 ]\n",
            "  ...\n",
            "  [ 0.15830377 -0.42149514 -0.814004  ]\n",
            "  [ 0.13447964 -0.4223178  -0.7994712 ]\n",
            "  [-0.00674888 -0.5373345  -0.88136005]]\n",
            "\n",
            " [[-1.5397512  -1.5870255  -1.4170095 ]\n",
            "  [-1.5397512  -1.5870255  -1.4170095 ]\n",
            "  [-1.5575876  -1.6550051  -1.5100336 ]\n",
            "  ...\n",
            "  [ 0.17290106 -0.41920114 -0.8436959 ]\n",
            "  [ 0.12893838 -0.44630063 -0.85172373]\n",
            "  [-0.0117872  -0.56125814 -0.9291244 ]]\n",
            "\n",
            " [[-1.3799102  -1.5418981  -1.4331602 ]\n",
            "  [-1.3799102  -1.5418981  -1.4331602 ]\n",
            "  [-1.3450117  -1.5612065  -1.4965373 ]\n",
            "  ...\n",
            "  [ 0.06556943 -0.5653493  -1.0001653 ]\n",
            "  [-0.01045183 -0.6124721  -1.0246866 ]\n",
            "  [-0.14160576 -0.6981403  -1.0570247 ]]\n",
            "\n",
            " ...\n",
            "\n",
            " [[ 1.4831108   0.9102597  -0.36176613]\n",
            "  [ 1.4831108   0.9102597  -0.36176613]\n",
            "  [ 1.3702425   0.7187136  -0.72799385]\n",
            "  ...\n",
            "  [ 0.00514231 -0.43371385 -0.9234574 ]\n",
            "  [ 0.6409424   0.18005215 -0.5000882 ]\n",
            "  [ 0.9736832   0.5233332  -0.27766192]]\n",
            "\n",
            " [[ 1.3916005   0.83781064 -0.29886523]\n",
            "  [ 1.3916005   0.83781064 -0.29886523]\n",
            "  [ 1.3249412   0.7066561  -0.6401924 ]\n",
            "  ...\n",
            "  [-0.6142604  -0.99178725 -1.2071408 ]\n",
            "  [ 0.02446425 -0.4145566  -0.8554338 ]\n",
            "  [ 0.58444536  0.15834104 -0.5599421 ]]\n",
            "\n",
            " [[ 1.095637    0.5139364  -0.26782593]\n",
            "  [ 1.095637    0.5139364  -0.26782593]\n",
            "  [ 1.0566522   0.4206386  -0.57335925]\n",
            "  ...\n",
            "  [-1.1402684  -1.5413085  -1.5163405 ]\n",
            "  [-0.41052935 -0.89093405 -1.1283499 ]\n",
            "  [ 0.49604782  0.01581565 -0.6218971 ]]]\n"
          ]
        },
        {
          "output_type": "display_data",
          "data": {
            "text/plain": [
              "<Figure size 432x288 with 1 Axes>"
            ],
            "image/png": "[encoded data removed]"
          },
          "metadata": {
            "needs_background": "light"
          }
        }
      ]
    },
    {
      "cell_type": "markdown",
      "source": [],
      "metadata": {
        "id": "IdCcpflctlZZ"
      }
    },
    {
      "cell_type": "code",
      "source": [
        "from keras.optimizers import Optimizer\n",
        "from keras.models import Sequential\n",
        "from keras.layers import Dense, Dropout, Flatten, Conv2D, MaxPooling2D\n",
        "\n",
        "model = Sequential()\n",
        "model.add(Conv2D(32, kernel_size=(3,3), input_shape=(32, 32, 3), activation= \"relu\" ))\n",
        "model.add(Conv2D(32, kernel_size=(3,3), activation= \"relu\" ))\n",
        "model.add(MaxPooling2D(pool_size = (2,2)))\n",
        "model.add(Dropout(0.25))\n",
        "\n",
        "model.add(Conv2D(32, kernel_size=(3,3), input_shape=(32, 32, 3), activation= \"relu\" ))\n",
        "model.add(Conv2D(32, kernel_size=(3,3), activation= \"relu\" ))\n",
        "model.add(MaxPooling2D(pool_size = (2,2)))\n",
        "model.add(Dropout(0.25))\n",
        "model.add(Flatten())\n",
        "\n",
        "model.add(Dense(128, activation = \"relu\"))\n",
        "\n",
        "model.add(Dense(1, activation =\"sigmoid\"))\n",
        "\n",
        "model.compile(optimizer=\"rmsprop\", loss = \"binary_crossentropy\", metrics= [\"accuracy\"])"
      ],
      "metadata": {
        "id": "xFxWJTp6rkCV"
      },
      "execution_count": 6,
      "outputs": []
    },
    {
      "cell_type": "code",
      "source": [
        "print(y_train==1) #autos = class_1"
      ],
      "metadata": {
        "colab": {
          "base_uri": "https://localhost:8080/"
        },
        "id": "kCynW1uF4X4O",
        "outputId": "d97e5f5c-5163-4a99-9769-5548837bd596"
      },
      "execution_count": 5,
      "outputs": [
        {
          "output_type": "stream",
          "name": "stdout",
          "text": [
            "[[False]\n",
            " [False]\n",
            " [False]\n",
            " ...\n",
            " [False]\n",
            " [ True]\n",
            " [ True]]\n"
          ]
        }
      ]
    },
    {
      "cell_type": "code",
      "source": [
        "y_train = y_train == 1\n",
        "\n",
        "gen = ImageDataGenerator(\n",
        "    width_shift_range= 3,\n",
        "     height_shift_range=3, \n",
        "     zoom_range= 0.1,\n",
        "      horizontal_flip= True,\n",
        "      featurewise_center= True,\n",
        "      featurewise_std_normalization=True\n",
        "\n",
        "      )\n",
        "\n",
        "\n",
        "\n",
        "model.fit_generator(gen.flow(X_train, y_train, batch_size=128, shuffle= True), epochs= 10, workers=10)"
      ],
      "metadata": {
        "colab": {
          "base_uri": "https://localhost:8080/"
        },
        "id": "zmofhsuU4gYm",
        "outputId": "3e87b8fa-8809-4bab-b157-3d337640d81d"
      },
      "execution_count": null,
      "outputs": [
        {
          "output_type": "stream",
          "name": "stdout",
          "text": [
            "Epoch 1/10\n"
          ]
        },
        {
          "output_type": "stream",
          "name": "stderr",
          "text": [
            "<ipython-input-24-e630e7d5fcd6>:15: UserWarning: `Model.fit_generator` is deprecated and will be removed in a future version. Please use `Model.fit`, which supports generators.\n",
            "  model.fit_generator(gen.flow(X_train, y_train, batch_size=128, shuffle= True), epochs= 10, workers=10)\n",
            "/usr/local/lib/python3.8/dist-packages/keras/preprocessing/image.py:1663: UserWarning: This ImageDataGenerator specifies `featurewise_center`, but it hasn't been fit on any training data. Fit it first by calling `.fit(numpy_data)`.\n",
            "  warnings.warn('This ImageDataGenerator specifies '\n",
            "/usr/local/lib/python3.8/dist-packages/keras/preprocessing/image.py:1671: UserWarning: This ImageDataGenerator specifies `featurewise_std_normalization`, but it hasn't been fit on any training data. Fit it first by calling `.fit(numpy_data)`.\n",
            "  warnings.warn('This ImageDataGenerator specifies '\n"
          ]
        },
        {
          "output_type": "stream",
          "name": "stdout",
          "text": [
            "391/391 [==============================] - 120s 302ms/step - loss: 0.0925 - accuracy: 0.9678\n",
            "Epoch 2/10\n",
            "391/391 [==============================] - 118s 298ms/step - loss: 0.0871 - accuracy: 0.9698\n",
            "Epoch 3/10\n",
            "391/391 [==============================] - 116s 294ms/step - loss: 0.0859 - accuracy: 0.9701\n",
            "Epoch 4/10\n",
            "247/391 [=================>............] - ETA: 42s - loss: 0.0832 - accuracy: 0.9706"
          ]
        }
      ]
    }
  ]
}